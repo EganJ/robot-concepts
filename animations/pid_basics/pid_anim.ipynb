{
 "cells": [
  {
   "cell_type": "code",
   "execution_count": 1,
   "metadata": {},
   "outputs": [
    {
     "data": {
      "text/html": [
       "<pre style=\"white-space:pre;overflow-x:auto;line-height:normal;font-family:Menlo,'DejaVu Sans Mono',consolas,'Courier New',monospace\">Manim Community <span style=\"color: #008000; text-decoration-color: #008000\">v0.17.2</span>\n",
       "\n",
       "</pre>\n"
      ],
      "text/plain": [
       "Manim Community \u001b[32mv0.\u001b[0m\u001b[32m17.2\u001b[0m\n",
       "\n"
      ]
     },
     "metadata": {},
     "output_type": "display_data"
    }
   ],
   "source": [
    "from manim import *\n",
    "import numpy as np\n",
    "\n",
    "quality = \"ql\""
   ]
  },
  {
   "attachments": {},
   "cell_type": "markdown",
   "metadata": {},
   "source": [
    "Multiple scene-side constants:"
   ]
  },
  {
   "cell_type": "code",
   "execution_count": 2,
   "metadata": {},
   "outputs": [],
   "source": [
    "# Font sizes\n",
    "SMALL_FONT = 24\n",
    "MED_FONT = 32\n",
    "LARGE_FONT = 48\n",
    "\n",
    "# Colors\n",
    "C_HIGHLIGHT = TEAL_C\n",
    "C_EMPHASIS = ORANGE"
   ]
  },
  {
   "attachments": {},
   "cell_type": "markdown",
   "metadata": {},
   "source": [
    "Create a PID simulation that we can use for future scenes. The scenario accounts\n",
    "for friction and a constant force, and effort means acceleration. Disclaimers to\n",
    "this model should be made in animations: motors output is closer to torque, not\n",
    "acceleration, and doesn't even do that in reality."
   ]
  },
  {
   "cell_type": "code",
   "execution_count": 3,
   "metadata": {},
   "outputs": [],
   "source": [
    "class PIDSim():\n",
    "    \"\"\"\n",
    "    PID controller simulator. Assumes a system with a frictive accleration \n",
    "    that swaps on sign(vel) and a constant (i.e. graviational) acceleration,\n",
    "    and where effort is acceleration. The target is always 0: use a coordinate\n",
    "    system that accounts for this.\n",
    "    \"\"\"\n",
    "\n",
    "    def __init__(self, kp, ki, kd,\n",
    "                dt = 0.01, # default, may be overridden by caller \n",
    "                ak_friction = 0, a_const = 0, \n",
    "                start_pos = -1,  start_vel = 0):\n",
    "        self.kp = kp\n",
    "        self.ki = ki\n",
    "        self.kd = kd\n",
    "        \n",
    "        self.ak_friction = ak_friction\n",
    "        self.a_const = a_const\n",
    "        \n",
    "        self.dt = dt\n",
    "        \n",
    "        self.reset(start_pos, start_vel)\n",
    "\n",
    "    def reset(self, pos, vel):\n",
    "        self.pos = pos\n",
    "        self.vel = vel\n",
    "        self.integral = 0\n",
    "        self.last_error = None\n",
    "\n",
    "    def step(self, dt = None):\n",
    "        \"\"\"\n",
    "        Simulates the system with one sample over given time dt. If dt is None,\n",
    "        uses the default dt.\n",
    "\n",
    "        Returns total acceleration (effort) along with each of its components:\n",
    "        a_p, a_i, a_d, a_friction, a_const\n",
    "        \"\"\"\n",
    "        if dt is None:\n",
    "            dt = self.dt\n",
    "        \n",
    "        error = 0 - self.pos\n",
    "        self.integral += error * dt\n",
    "        if self.last_error is None:\n",
    "            derivative = 0\n",
    "        else:\n",
    "            derivative = (error - self.last_error) / dt\n",
    "        self.last_error = error\n",
    "\n",
    "        a_p = self.kp * error\n",
    "        a_i = self.ki * self.integral\n",
    "        a_d = self.kd * derivative\n",
    "        effort = a_p + a_i + a_d\n",
    "        a_friction = -self.a_friction * np.sign(self.vel)\n",
    "        dv_friction = a_friction * dt\n",
    "        a_other = self.a_const + effort\n",
    "        dv_other = a_other * dt\n",
    "\n",
    "        v_other = self.vel + dv_other\n",
    "        # hack to prevent friction-induced: bound friction to not switch sign of \n",
    "        # v_other\n",
    "        if(np.sign(v_other + dv_friction) != np.sign(self.vel)):\n",
    "            dv_friction = 0\n",
    "        \n",
    "        self.vel = v_other + dv_friction\n",
    "        self.pos += self.vel * dt\n",
    "        return effort, a_p, a_i, a_d, a_friction, self.a_const"
   ]
  },
  {
   "attachments": {},
   "cell_type": "markdown",
   "metadata": {},
   "source": [
    "Class for vanilla PID animation scenes. Meant to provide convenient ways of \n",
    "handling specific scene objects, such as showing and hiding a bracket demonstrating\n",
    "how we measure error."
   ]
  },
  {
   "cell_type": "code",
   "execution_count": 4,
   "metadata": {},
   "outputs": [
    {
     "name": "stderr",
     "output_type": "stream",
     "text": [
      "                                                                                            \r"
     ]
    },
    {
     "data": {
      "text/html": [
       "<video src=\"media/jupyter/PIDScene@2023-03-10@05-53-41.mp4\" controls autoplay loop style=\"max-width: 60%;\"  >\n",
       "      Your browser does not support the <code>video</code> element.\n",
       "    </video>"
      ],
      "text/plain": [
       "<IPython.core.display.Video object>"
      ]
     },
     "metadata": {},
     "output_type": "display_data"
    }
   ],
   "source": [
    "%%manim -v WARNING --disable_caching -$quality PIDScene\n",
    "        \n",
    "class PIDScene(Scene):\n",
    "\n",
    "    LINE_Y = -2\n",
    "    LINE_WIDTH = 11\n",
    "\n",
    "    ROBOT_SIZE = 1.5\n",
    "    ROBOT_Y = LINE_Y + ROBOT_SIZE / 2 + 0.25\n",
    "\n",
    "    def construct(s):\n",
    "        self = s\n",
    "\n",
    "        # ---------------------------------------------------------------------\n",
    "        # simulation number line and labels\n",
    "        #\n",
    "        s.sim_line = NumberLine(\n",
    "            x_range = [-1, 1, 1],\n",
    "            length = s.LINE_WIDTH,\n",
    "            include_numbers = False\n",
    "        )\n",
    "        s.sim_line.move_to([0, s.LINE_Y, 0])\n",
    "\n",
    "        s.line_labels = [\"target - 1\", \"target\", \"target + 1\"]\n",
    "        s.line_labels = [Text(label, font_size = SMALL_FONT) for label in s.line_labels]\n",
    "        s.line_labels[1].set_color(C_EMPHASIS)\n",
    "        s.sim_line.add_labels({i-1 : s.line_labels[i] for i in range(3)},\n",
    "                             font_size = SMALL_FONT)\n",
    "       \n",
    "        # ---------------------------------------------------------------------\n",
    "        # Robot model: a square and a dot\n",
    "        #\n",
    "        s.robot_pos = ValueTracker(-1) # position on number line\n",
    "        s.robot = Square(side_length = s.ROBOT_SIZE)\n",
    "        s.robot.add_updater(lambda x: x.next_to(s.sim_line.n2p(s.robot_pos.get_value()), UP))\n",
    "        s.robot_dot = Dot(color = C_HIGHLIGHT)\n",
    "        s.robot_dot.add_updater(lambda x: x.move_to(s.robot.get_center()))\n",
    "        \n",
    "        s.robot_label = Text(\"(Robot)\", color = WHITE, font_size= MED_FONT)\n",
    "        s.robot_label.add_updater(lambda x: x.next_to(s.robot, UP))\n",
    "        \n",
    "        # ---------------------------------------------------------------------\n",
    "        # Error bracket\n",
    "        #\n",
    "        def draw_error_bracket():\n",
    "            to_point = s.robot.get_center()\n",
    "            to_point[1] += s.ROBOT_SIZE / 2\n",
    "            error_bracket = BraceBetweenPoints(to_point, s.sim_line.n2p(0), direction=UP)\n",
    "            return error_bracket\n",
    "        s.error_bracket = always_redraw(draw_error_bracket)\n",
    "        \n",
    "\n",
    "        # Test animations\n",
    "        s.play(s.show_line())\n",
    "        # s.play(s.annotate_line())\n",
    "        s.play(s.show_robot())\n",
    "        s.play(s.annotate_robot())\n",
    "        s.play(s.unannotate_robot())\n",
    "        s.play(Create(s.error_bracket))\n",
    "        s.play(s.robot_pos.animate.set_value(0.5), run_time = 3)\n",
    "        s.wait(3)\n",
    "\n",
    "    def show_line(self, t = 1):\n",
    "        return Create(self.sim_line, run_time = t)\n",
    "\n",
    "    def hide_line(self, t = 1):\n",
    "        return FadeOut(self.sim_line, run_time = t)\n",
    "\n",
    "    def show_robot(self, t = 1):\n",
    "        return AnimationGroup(\n",
    "            Create(self.robot, run_time = t),\n",
    "            Create(self.robot_dot, run_time = t),\n",
    "            lag_ratio = 0.2,\n",
    "            run_time = t\n",
    "        )\n",
    "\n",
    "    def hide_robot(self, t = 1):\n",
    "        return AnimationGroup(\n",
    "            FadeOut(self.robot, run_time = t),\n",
    "            FadeOut(self.robot_dot, run_time = t),\n",
    "            lag_ratio = 0.2,\n",
    "            run_time = t\n",
    "        )\n",
    "    \n",
    "    def annotate_robot(self, t = 1):\n",
    "        return Write(self.robot_label, run_time = t)\n",
    "\n",
    "    def unannotate_robot(self, t = 1):\n",
    "        return FadeOut(self.robot_label, run_time = t)\n",
    "\n",
    "    def move_robot(self, x, t = 1):\n",
    "        return self.robot_pos.animate.set_value(x, run_time = t)\n",
    "\n",
    "    def draw_error_bracket(self):\n",
    "        return Create(self.error_bracket)\n",
    "    \n",
    "    def hide_error_bracket(self):\n",
    "        return FadeOut(self.error_bracket)"
   ]
  }
 ],
 "metadata": {
  "kernelspec": {
   "display_name": "Python 3",
   "language": "python",
   "name": "python3"
  },
  "language_info": {
   "codemirror_mode": {
    "name": "ipython",
    "version": 3
   },
   "file_extension": ".py",
   "mimetype": "text/x-python",
   "name": "python",
   "nbconvert_exporter": "python",
   "pygments_lexer": "ipython3",
   "version": "3.11.2"
  },
  "orig_nbformat": 4,
  "vscode": {
   "interpreter": {
    "hash": "eb4a0ac80907d7f44e1a5e88d3d3381b33e3dbedd3a24d113e876f30a0c46bee"
   }
  }
 },
 "nbformat": 4,
 "nbformat_minor": 2
}
